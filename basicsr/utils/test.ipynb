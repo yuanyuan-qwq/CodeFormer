{
 "cells": [
  {
   "cell_type": "code",
   "execution_count": null,
   "id": "499181fe",
   "metadata": {},
   "outputs": [
    {
     "ename": "NameError",
     "evalue": "name 'self' is not defined",
     "output_type": "error",
     "traceback": [
      "\u001b[1;31m---------------------------------------------------------------------------\u001b[0m",
      "\u001b[1;31mNameError\u001b[0m                                 Traceback (most recent call last)",
      "Cell \u001b[1;32mIn[4], line 23\u001b[0m\n\u001b[0;32m     20\u001b[0m     \u001b[38;5;28mself\u001b[39m\u001b[38;5;241m.\u001b[39mdevice \u001b[38;5;241m=\u001b[39m get_device(gpu_id) \u001b[38;5;28;01mif\u001b[39;00m device \u001b[38;5;129;01mis\u001b[39;00m \u001b[38;5;28;01mNone\u001b[39;00m \u001b[38;5;28;01melse\u001b[39;00m device\n\u001b[0;32m     21\u001b[0m     \u001b[38;5;28mprint\u001b[39m(\u001b[38;5;124mf\u001b[39m\u001b[38;5;124m\"\u001b[39m\u001b[38;5;124mUsing device: \u001b[39m\u001b[38;5;132;01m{\u001b[39;00m\u001b[38;5;28mself\u001b[39m\u001b[38;5;241m.\u001b[39mdevice\u001b[38;5;132;01m}\u001b[39;00m\u001b[38;5;124m\"\u001b[39m)\n\u001b[1;32m---> 23\u001b[0m \u001b[38;5;28mprint\u001b[39m(\u001b[38;5;124mf\u001b[39m\u001b[38;5;124m\"\u001b[39m\u001b[38;5;124mUsing device: \u001b[39m\u001b[38;5;132;01m{\u001b[39;00m\u001b[38;5;28mself\u001b[39m\u001b[38;5;241m.\u001b[39mdevice\u001b[38;5;132;01m}\u001b[39;00m\u001b[38;5;124m\"\u001b[39m)\n",
      "\u001b[1;31mNameError\u001b[0m: name 'self' is not defined"
     ]
    }
   ],
   "source": [
    "from basicsr.utils.misc import get_device\n",
    "\n",
    "class Model:\n",
    "    def __init__(self,\n",
    "                 scale,\n",
    "                 model_path,\n",
    "                 model=None,\n",
    "                 tile=0,\n",
    "                 tile_pad=10,\n",
    "                 pre_pad=10,\n",
    "                 half=False,\n",
    "                 device=None,\n",
    "                 gpu_id=None):\n",
    "        self.scale = scale\n",
    "        self.tile_size = tile\n",
    "        self.tile_pad = tile_pad\n",
    "        self.pre_pad = pre_pad\n",
    "        self.mod_scale = None\n",
    "        self.half = half\n",
    "\n",
    "        self.device = get_device(gpu_id) if device is None else device\n",
    "        print(f\"Using device: {self.device}\")\n",
    "\n",
    "# Example instantiation of the class\n",
    "model_instance = Model(scale=2, model_path=\"path/to/model\")"
   ]
  },
  {
   "cell_type": "code",
   "execution_count": null,
   "id": "4e2368f0",
   "metadata": {},
   "outputs": [],
   "source": []
  }
 ],
 "metadata": {
  "kernelspec": {
   "display_name": "py3.9",
   "language": "python",
   "name": "python3"
  },
  "language_info": {
   "codemirror_mode": {
    "name": "ipython",
    "version": 3
   },
   "file_extension": ".py",
   "mimetype": "text/x-python",
   "name": "python",
   "nbconvert_exporter": "python",
   "pygments_lexer": "ipython3",
   "version": "3.9.21"
  }
 },
 "nbformat": 4,
 "nbformat_minor": 5
}
